{
 "cells": [
  {
   "cell_type": "code",
   "execution_count": 3,
   "id": "a98a1eea",
   "metadata": {},
   "outputs": [],
   "source": [
    "\n",
    "import pandas as pd"
   ]
  },
  {
   "cell_type": "code",
   "execution_count": 7,
   "id": "06508612",
   "metadata": {},
   "outputs": [],
   "source": [
    "\n",
    "url = 'https://en.wikipedia.org/wiki/List_of_cities_in_Brazil_by_population'"
   ]
  },
  {
   "cell_type": "code",
   "execution_count": 14,
   "id": "5e9dc1d5",
   "metadata": {},
   "outputs": [
    {
     "data": {
      "text/html": [
       "<div>\n",
       "<style scoped>\n",
       "    .dataframe tbody tr th:only-of-type {\n",
       "        vertical-align: middle;\n",
       "    }\n",
       "\n",
       "    .dataframe tbody tr th {\n",
       "        vertical-align: top;\n",
       "    }\n",
       "\n",
       "    .dataframe thead th {\n",
       "        text-align: right;\n",
       "    }\n",
       "</style>\n",
       "<table border=\"1\" class=\"dataframe\">\n",
       "  <thead>\n",
       "    <tr style=\"text-align: right;\">\n",
       "      <th></th>\n",
       "      <th>City</th>\n",
       "      <th>State</th>\n",
       "      <th>2021Estimate</th>\n",
       "      <th>2010Census</th>\n",
       "      <th>Change</th>\n",
       "    </tr>\n",
       "  </thead>\n",
       "  <tbody>\n",
       "    <tr>\n",
       "      <th>0</th>\n",
       "      <td>São Paulo</td>\n",
       "      <td>São Paulo</td>\n",
       "      <td>12396372</td>\n",
       "      <td>11253503</td>\n",
       "      <td>+10.16%</td>\n",
       "    </tr>\n",
       "    <tr>\n",
       "      <th>1</th>\n",
       "      <td>Rio de Janeiro</td>\n",
       "      <td>Rio de Janeiro</td>\n",
       "      <td>6775561</td>\n",
       "      <td>6320446</td>\n",
       "      <td>+7.20%</td>\n",
       "    </tr>\n",
       "    <tr>\n",
       "      <th>2</th>\n",
       "      <td>Brasília</td>\n",
       "      <td>Distrito Federal</td>\n",
       "      <td>3094325</td>\n",
       "      <td>2570160</td>\n",
       "      <td>+20.39%</td>\n",
       "    </tr>\n",
       "    <tr>\n",
       "      <th>3</th>\n",
       "      <td>Salvador</td>\n",
       "      <td>Bahia</td>\n",
       "      <td>2900319</td>\n",
       "      <td>2675656</td>\n",
       "      <td>+8.40%</td>\n",
       "    </tr>\n",
       "    <tr>\n",
       "      <th>4</th>\n",
       "      <td>Fortaleza</td>\n",
       "      <td>Ceará</td>\n",
       "      <td>2703391</td>\n",
       "      <td>2452185</td>\n",
       "      <td>+10.24%</td>\n",
       "    </tr>\n",
       "  </tbody>\n",
       "</table>\n",
       "</div>"
      ],
      "text/plain": [
       "             City             State  2021Estimate  2010Census   Change\n",
       "0       São Paulo         São Paulo      12396372    11253503  +10.16%\n",
       "1  Rio de Janeiro    Rio de Janeiro       6775561     6320446   +7.20%\n",
       "2        Brasília  Distrito Federal       3094325     2570160  +20.39%\n",
       "3        Salvador             Bahia       2900319     2675656   +8.40%\n",
       "4       Fortaleza             Ceará       2703391     2452185  +10.24%"
      ]
     },
     "execution_count": 14,
     "metadata": {},
     "output_type": "execute_result"
    }
   ],
   "source": [
    "tables = pd.read_html(url)\n",
    "df = tables[0]\n",
    "df.head()"
   ]
  },
  {
   "cell_type": "code",
   "execution_count": null,
   "id": "cdd2c170",
   "metadata": {},
   "outputs": [],
   "source": [
    "df.to_csv('most_populated_cities.csv')"
   ]
  }
 ],
 "metadata": {
  "kernelspec": {
   "display_name": "Python 3 (ipykernel)",
   "language": "python",
   "name": "python3"
  },
  "language_info": {
   "codemirror_mode": {
    "name": "ipython",
    "version": 3
   },
   "file_extension": ".py",
   "mimetype": "text/x-python",
   "name": "python",
   "nbconvert_exporter": "python",
   "pygments_lexer": "ipython3",
   "version": "3.9.13"
  }
 },
 "nbformat": 4,
 "nbformat_minor": 5
}
